{
 "cells": [
  {
   "cell_type": "markdown",
   "metadata": {},
   "source": [
    "# #Final Proposal\n",
    "\n",
    "## Luming Xu, 2024-12-09\n",
    "Hi Eric! I'm thinking of analysing tourism data of US national parks but I'm not sure whether my research question and analysis steps are appropriate. I'd like to cluster national parks by their own and regional visitation patterns. Could you please kindly provide some suggestions? Thank you!\n"
   ]
  },
  {
   "cell_type": "markdown",
   "metadata": {},
   "source": [
    "### Research Question\n",
    "How does regional tourism activity influence visitation patterns at US national parks?\n",
    "### Data\n",
    "1. National Park Visitation Data\n",
    "+ Source: National Park Service (NPS)\n",
    "+ Data: [park centroids and boundaries](https://public-nps.opendata.arcgis.com/maps/c8d60ffcbf5c4030a17762fe10e81c6a/about), [Visitation By State and by Park](https://irma.nps.gov/Stats/SSRSReports/National%20Reports/Visitation%20By%20State%20and%20By%20Park%20(2017%20-%20Last%20Calendar%20Year)), [Annual Park Ranking for Recreation Visits](https://irma.nps.gov/Stats/SSRSReports/National%20Reports/Annual%20Park%20Ranking%20Report%20(1979%20-%20Last%20Calendar%20Year))\n",
    "2. State Tourism Data\n",
    "+ U.S. Bureau of Economic Analysis\n",
    "+ Data: [Outdoor Recreation Satellite Account](https://www.bea.gov/news/2024/outdoor-recreation-satellite-account-us-and-states-2023)\n",
    "+ STR\n",
    "+ Data: hotel occupancy\n",
    "+ Bureau of Transportation Statistics\n",
    "+ Data: [Interstate Passenger Trips by Destination](https://www.bts.gov/browse-statistical-products-and-data/state-transportation-statistics/interstate-passenger-trips), [Freight Flows By State](https://www.bts.gov/browse-statistical-products-and-data/state-transportation-statistics/freight-flows-state)\n",
    "### Analysis Steps\n",
    "1. Preprocessing\n",
    "\n",
    "match park locations with US States\n",
    "\n",
    "2. Correlation Analysis\n",
    "\n",
    "explore relationships between park visitation and tourism metrics\n",
    "\n",
    "3. Clustering Analysis\n",
    "### Requirements Satisfied\n",
    "+ It combines data collected from 3 or more different sources\n",
    "+ You use scikit-learn to perform a clustering analysis\n",
    "+ The project includes multiple interactive visualizations that include a significant interactive component (cross-filtering, interactive widgets, etc)\n"
   ]
  }
 ],
 "metadata": {
  "language_info": {
   "name": "python"
  }
 },
 "nbformat": 4,
 "nbformat_minor": 2
}
